{
  "nbformat": 4,
  "nbformat_minor": 0,
  "metadata": {
    "colab": {
      "provenance": [],
      "authorship_tag": "ABX9TyMKDXRX3unCIvsw5Pdgoq5y",
      "include_colab_link": true
    },
    "kernelspec": {
      "name": "python3",
      "display_name": "Python 3"
    },
    "language_info": {
      "name": "python"
    }
  },
  "cells": [
    {
      "cell_type": "markdown",
      "metadata": {
        "id": "view-in-github",
        "colab_type": "text"
      },
      "source": [
        "<a href=\"https://colab.research.google.com/github/DhanvinS/Projects/blob/main/An%20Analysis%20of%20all%20models/%20KNN%2C_LR%2C_SVM%2C_Naive_Bayes.ipynb\" target=\"_parent\"><img src=\"https://colab.research.google.com/assets/colab-badge.svg\" alt=\"Open In Colab\"/></a>"
      ]
    },
    {
      "cell_type": "code",
      "source": [
        "from google.colab import files\n",
        "dataset = files.upload()"
      ],
      "metadata": {
        "colab": {
          "base_uri": "https://localhost:8080/",
          "height": 73
        },
        "id": "9Bb5IupIjcAx",
        "outputId": "16b8dba6-f46c-495b-fdc6-8c3810b4c6a1"
      },
      "execution_count": 1,
      "outputs": [
        {
          "output_type": "display_data",
          "data": {
            "text/plain": [
              "<IPython.core.display.HTML object>"
            ],
            "text/html": [
              "\n",
              "     <input type=\"file\" id=\"files-0bb35892-4241-4888-8a6f-00febb6e7102\" name=\"files[]\" multiple disabled\n",
              "        style=\"border:none\" />\n",
              "     <output id=\"result-0bb35892-4241-4888-8a6f-00febb6e7102\">\n",
              "      Upload widget is only available when the cell has been executed in the\n",
              "      current browser session. Please rerun this cell to enable.\n",
              "      </output>\n",
              "      <script>// Copyright 2017 Google LLC\n",
              "//\n",
              "// Licensed under the Apache License, Version 2.0 (the \"License\");\n",
              "// you may not use this file except in compliance with the License.\n",
              "// You may obtain a copy of the License at\n",
              "//\n",
              "//      http://www.apache.org/licenses/LICENSE-2.0\n",
              "//\n",
              "// Unless required by applicable law or agreed to in writing, software\n",
              "// distributed under the License is distributed on an \"AS IS\" BASIS,\n",
              "// WITHOUT WARRANTIES OR CONDITIONS OF ANY KIND, either express or implied.\n",
              "// See the License for the specific language governing permissions and\n",
              "// limitations under the License.\n",
              "\n",
              "/**\n",
              " * @fileoverview Helpers for google.colab Python module.\n",
              " */\n",
              "(function(scope) {\n",
              "function span(text, styleAttributes = {}) {\n",
              "  const element = document.createElement('span');\n",
              "  element.textContent = text;\n",
              "  for (const key of Object.keys(styleAttributes)) {\n",
              "    element.style[key] = styleAttributes[key];\n",
              "  }\n",
              "  return element;\n",
              "}\n",
              "\n",
              "// Max number of bytes which will be uploaded at a time.\n",
              "const MAX_PAYLOAD_SIZE = 100 * 1024;\n",
              "\n",
              "function _uploadFiles(inputId, outputId) {\n",
              "  const steps = uploadFilesStep(inputId, outputId);\n",
              "  const outputElement = document.getElementById(outputId);\n",
              "  // Cache steps on the outputElement to make it available for the next call\n",
              "  // to uploadFilesContinue from Python.\n",
              "  outputElement.steps = steps;\n",
              "\n",
              "  return _uploadFilesContinue(outputId);\n",
              "}\n",
              "\n",
              "// This is roughly an async generator (not supported in the browser yet),\n",
              "// where there are multiple asynchronous steps and the Python side is going\n",
              "// to poll for completion of each step.\n",
              "// This uses a Promise to block the python side on completion of each step,\n",
              "// then passes the result of the previous step as the input to the next step.\n",
              "function _uploadFilesContinue(outputId) {\n",
              "  const outputElement = document.getElementById(outputId);\n",
              "  const steps = outputElement.steps;\n",
              "\n",
              "  const next = steps.next(outputElement.lastPromiseValue);\n",
              "  return Promise.resolve(next.value.promise).then((value) => {\n",
              "    // Cache the last promise value to make it available to the next\n",
              "    // step of the generator.\n",
              "    outputElement.lastPromiseValue = value;\n",
              "    return next.value.response;\n",
              "  });\n",
              "}\n",
              "\n",
              "/**\n",
              " * Generator function which is called between each async step of the upload\n",
              " * process.\n",
              " * @param {string} inputId Element ID of the input file picker element.\n",
              " * @param {string} outputId Element ID of the output display.\n",
              " * @return {!Iterable<!Object>} Iterable of next steps.\n",
              " */\n",
              "function* uploadFilesStep(inputId, outputId) {\n",
              "  const inputElement = document.getElementById(inputId);\n",
              "  inputElement.disabled = false;\n",
              "\n",
              "  const outputElement = document.getElementById(outputId);\n",
              "  outputElement.innerHTML = '';\n",
              "\n",
              "  const pickedPromise = new Promise((resolve) => {\n",
              "    inputElement.addEventListener('change', (e) => {\n",
              "      resolve(e.target.files);\n",
              "    });\n",
              "  });\n",
              "\n",
              "  const cancel = document.createElement('button');\n",
              "  inputElement.parentElement.appendChild(cancel);\n",
              "  cancel.textContent = 'Cancel upload';\n",
              "  const cancelPromise = new Promise((resolve) => {\n",
              "    cancel.onclick = () => {\n",
              "      resolve(null);\n",
              "    };\n",
              "  });\n",
              "\n",
              "  // Wait for the user to pick the files.\n",
              "  const files = yield {\n",
              "    promise: Promise.race([pickedPromise, cancelPromise]),\n",
              "    response: {\n",
              "      action: 'starting',\n",
              "    }\n",
              "  };\n",
              "\n",
              "  cancel.remove();\n",
              "\n",
              "  // Disable the input element since further picks are not allowed.\n",
              "  inputElement.disabled = true;\n",
              "\n",
              "  if (!files) {\n",
              "    return {\n",
              "      response: {\n",
              "        action: 'complete',\n",
              "      }\n",
              "    };\n",
              "  }\n",
              "\n",
              "  for (const file of files) {\n",
              "    const li = document.createElement('li');\n",
              "    li.append(span(file.name, {fontWeight: 'bold'}));\n",
              "    li.append(span(\n",
              "        `(${file.type || 'n/a'}) - ${file.size} bytes, ` +\n",
              "        `last modified: ${\n",
              "            file.lastModifiedDate ? file.lastModifiedDate.toLocaleDateString() :\n",
              "                                    'n/a'} - `));\n",
              "    const percent = span('0% done');\n",
              "    li.appendChild(percent);\n",
              "\n",
              "    outputElement.appendChild(li);\n",
              "\n",
              "    const fileDataPromise = new Promise((resolve) => {\n",
              "      const reader = new FileReader();\n",
              "      reader.onload = (e) => {\n",
              "        resolve(e.target.result);\n",
              "      };\n",
              "      reader.readAsArrayBuffer(file);\n",
              "    });\n",
              "    // Wait for the data to be ready.\n",
              "    let fileData = yield {\n",
              "      promise: fileDataPromise,\n",
              "      response: {\n",
              "        action: 'continue',\n",
              "      }\n",
              "    };\n",
              "\n",
              "    // Use a chunked sending to avoid message size limits. See b/62115660.\n",
              "    let position = 0;\n",
              "    do {\n",
              "      const length = Math.min(fileData.byteLength - position, MAX_PAYLOAD_SIZE);\n",
              "      const chunk = new Uint8Array(fileData, position, length);\n",
              "      position += length;\n",
              "\n",
              "      const base64 = btoa(String.fromCharCode.apply(null, chunk));\n",
              "      yield {\n",
              "        response: {\n",
              "          action: 'append',\n",
              "          file: file.name,\n",
              "          data: base64,\n",
              "        },\n",
              "      };\n",
              "\n",
              "      let percentDone = fileData.byteLength === 0 ?\n",
              "          100 :\n",
              "          Math.round((position / fileData.byteLength) * 100);\n",
              "      percent.textContent = `${percentDone}% done`;\n",
              "\n",
              "    } while (position < fileData.byteLength);\n",
              "  }\n",
              "\n",
              "  // All done.\n",
              "  yield {\n",
              "    response: {\n",
              "      action: 'complete',\n",
              "    }\n",
              "  };\n",
              "}\n",
              "\n",
              "scope.google = scope.google || {};\n",
              "scope.google.colab = scope.google.colab || {};\n",
              "scope.google.colab._files = {\n",
              "  _uploadFiles,\n",
              "  _uploadFilesContinue,\n",
              "};\n",
              "})(self);\n",
              "</script> "
            ]
          },
          "metadata": {}
        },
        {
          "output_type": "stream",
          "name": "stdout",
          "text": [
            "Saving DiabetesData.csv to DiabetesData.csv\n"
          ]
        }
      ]
    },
    {
      "cell_type": "code",
      "execution_count": 4,
      "metadata": {
        "id": "bmg-34VrabWt"
      },
      "outputs": [],
      "source": [
        "# Importing all the required modules\n",
        "\n",
        "import pandas as pd\n",
        "import numpy as np\n",
        "import matplotlib.pyplot as plt\n",
        "from sklearn.model_selection import train_test_split\n",
        "from sklearn.neighbors import KNeighborsClassifier\n",
        "from sklearn.naive_bayes import GaussianNB, MultinomialNB\n",
        "from sklearn.linear_model import LogisticRegression\n",
        "from sklearn.svm import SVC\n",
        "from sklearn.metrics import accuracy_score"
      ]
    },
    {
      "cell_type": "code",
      "source": [
        "df = pd.read_csv('DiabetesData.csv')\n",
        "df.tail()"
      ],
      "metadata": {
        "colab": {
          "base_uri": "https://localhost:8080/",
          "height": 226
        },
        "id": "yntCovyikNx8",
        "outputId": "171cc95b-223c-4880-8f57-fee5f8b0922c"
      },
      "execution_count": 5,
      "outputs": [
        {
          "output_type": "execute_result",
          "data": {
            "text/plain": [
              "       physical_activity_minutes_per_week  diet_score  sleep_hours_per_day  \\\n",
              "99995                                 136         8.3                  6.4   \n",
              "99996                                  76         8.8                  6.8   \n",
              "99997                                 121         9.9                  5.0   \n",
              "99998                                  52         5.9                  6.7   \n",
              "99999                                 248         2.7                  5.4   \n",
              "\n",
              "       screen_time_hours_per_day   bmi  waist_to_hip_ratio  systolic_bp  \\\n",
              "99995                        4.5  29.8                0.93          126   \n",
              "99996                        4.8  26.5                0.86          130   \n",
              "99997                        6.1  25.6                0.83          107   \n",
              "99998                        0.5  26.8                0.89          115   \n",
              "99999                        5.5  30.3                1.00          109   \n",
              "\n",
              "       diastolic_bp  hdl_cholesterol  ldl_cholesterol  triglycerides  \\\n",
              "99995            74               45              150            116   \n",
              "99996            76               55              123            146   \n",
              "99997            87               50              111            184   \n",
              "99998            77               68               91            116   \n",
              "99999            77               31              183             87   \n",
              "\n",
              "       glucose_fasting  glucose_postprandial  insulin_level  hba1c  \\\n",
              "99995              113                   109          14.58   5.55   \n",
              "99996               96                   146           9.02   5.97   \n",
              "99997               93                   132           2.57   5.21   \n",
              "99998              106                   117           9.81   5.53   \n",
              "99999               91                   142          15.93   5.73   \n",
              "\n",
              "       diabetes_risk_score  diagnosed_diabetes  \n",
              "99995                 26.0                   0  \n",
              "99996                 24.4                   0  \n",
              "99997                 27.6                   0  \n",
              "99998                 26.4                   0  \n",
              "99999                 27.9                   0  "
            ],
            "text/html": [
              "\n",
              "  <div id=\"df-ec40114b-b08d-48c2-bbd5-3b6dfc1c31af\" class=\"colab-df-container\">\n",
              "    <div>\n",
              "<style scoped>\n",
              "    .dataframe tbody tr th:only-of-type {\n",
              "        vertical-align: middle;\n",
              "    }\n",
              "\n",
              "    .dataframe tbody tr th {\n",
              "        vertical-align: top;\n",
              "    }\n",
              "\n",
              "    .dataframe thead th {\n",
              "        text-align: right;\n",
              "    }\n",
              "</style>\n",
              "<table border=\"1\" class=\"dataframe\">\n",
              "  <thead>\n",
              "    <tr style=\"text-align: right;\">\n",
              "      <th></th>\n",
              "      <th>physical_activity_minutes_per_week</th>\n",
              "      <th>diet_score</th>\n",
              "      <th>sleep_hours_per_day</th>\n",
              "      <th>screen_time_hours_per_day</th>\n",
              "      <th>bmi</th>\n",
              "      <th>waist_to_hip_ratio</th>\n",
              "      <th>systolic_bp</th>\n",
              "      <th>diastolic_bp</th>\n",
              "      <th>hdl_cholesterol</th>\n",
              "      <th>ldl_cholesterol</th>\n",
              "      <th>triglycerides</th>\n",
              "      <th>glucose_fasting</th>\n",
              "      <th>glucose_postprandial</th>\n",
              "      <th>insulin_level</th>\n",
              "      <th>hba1c</th>\n",
              "      <th>diabetes_risk_score</th>\n",
              "      <th>diagnosed_diabetes</th>\n",
              "    </tr>\n",
              "  </thead>\n",
              "  <tbody>\n",
              "    <tr>\n",
              "      <th>99995</th>\n",
              "      <td>136</td>\n",
              "      <td>8.3</td>\n",
              "      <td>6.4</td>\n",
              "      <td>4.5</td>\n",
              "      <td>29.8</td>\n",
              "      <td>0.93</td>\n",
              "      <td>126</td>\n",
              "      <td>74</td>\n",
              "      <td>45</td>\n",
              "      <td>150</td>\n",
              "      <td>116</td>\n",
              "      <td>113</td>\n",
              "      <td>109</td>\n",
              "      <td>14.58</td>\n",
              "      <td>5.55</td>\n",
              "      <td>26.0</td>\n",
              "      <td>0</td>\n",
              "    </tr>\n",
              "    <tr>\n",
              "      <th>99996</th>\n",
              "      <td>76</td>\n",
              "      <td>8.8</td>\n",
              "      <td>6.8</td>\n",
              "      <td>4.8</td>\n",
              "      <td>26.5</td>\n",
              "      <td>0.86</td>\n",
              "      <td>130</td>\n",
              "      <td>76</td>\n",
              "      <td>55</td>\n",
              "      <td>123</td>\n",
              "      <td>146</td>\n",
              "      <td>96</td>\n",
              "      <td>146</td>\n",
              "      <td>9.02</td>\n",
              "      <td>5.97</td>\n",
              "      <td>24.4</td>\n",
              "      <td>0</td>\n",
              "    </tr>\n",
              "    <tr>\n",
              "      <th>99997</th>\n",
              "      <td>121</td>\n",
              "      <td>9.9</td>\n",
              "      <td>5.0</td>\n",
              "      <td>6.1</td>\n",
              "      <td>25.6</td>\n",
              "      <td>0.83</td>\n",
              "      <td>107</td>\n",
              "      <td>87</td>\n",
              "      <td>50</td>\n",
              "      <td>111</td>\n",
              "      <td>184</td>\n",
              "      <td>93</td>\n",
              "      <td>132</td>\n",
              "      <td>2.57</td>\n",
              "      <td>5.21</td>\n",
              "      <td>27.6</td>\n",
              "      <td>0</td>\n",
              "    </tr>\n",
              "    <tr>\n",
              "      <th>99998</th>\n",
              "      <td>52</td>\n",
              "      <td>5.9</td>\n",
              "      <td>6.7</td>\n",
              "      <td>0.5</td>\n",
              "      <td>26.8</td>\n",
              "      <td>0.89</td>\n",
              "      <td>115</td>\n",
              "      <td>77</td>\n",
              "      <td>68</td>\n",
              "      <td>91</td>\n",
              "      <td>116</td>\n",
              "      <td>106</td>\n",
              "      <td>117</td>\n",
              "      <td>9.81</td>\n",
              "      <td>5.53</td>\n",
              "      <td>26.4</td>\n",
              "      <td>0</td>\n",
              "    </tr>\n",
              "    <tr>\n",
              "      <th>99999</th>\n",
              "      <td>248</td>\n",
              "      <td>2.7</td>\n",
              "      <td>5.4</td>\n",
              "      <td>5.5</td>\n",
              "      <td>30.3</td>\n",
              "      <td>1.00</td>\n",
              "      <td>109</td>\n",
              "      <td>77</td>\n",
              "      <td>31</td>\n",
              "      <td>183</td>\n",
              "      <td>87</td>\n",
              "      <td>91</td>\n",
              "      <td>142</td>\n",
              "      <td>15.93</td>\n",
              "      <td>5.73</td>\n",
              "      <td>27.9</td>\n",
              "      <td>0</td>\n",
              "    </tr>\n",
              "  </tbody>\n",
              "</table>\n",
              "</div>\n",
              "    <div class=\"colab-df-buttons\">\n",
              "\n",
              "  <div class=\"colab-df-container\">\n",
              "    <button class=\"colab-df-convert\" onclick=\"convertToInteractive('df-ec40114b-b08d-48c2-bbd5-3b6dfc1c31af')\"\n",
              "            title=\"Convert this dataframe to an interactive table.\"\n",
              "            style=\"display:none;\">\n",
              "\n",
              "  <svg xmlns=\"http://www.w3.org/2000/svg\" height=\"24px\" viewBox=\"0 -960 960 960\">\n",
              "    <path d=\"M120-120v-720h720v720H120Zm60-500h600v-160H180v160Zm220 220h160v-160H400v160Zm0 220h160v-160H400v160ZM180-400h160v-160H180v160Zm440 0h160v-160H620v160ZM180-180h160v-160H180v160Zm440 0h160v-160H620v160Z\"/>\n",
              "  </svg>\n",
              "    </button>\n",
              "\n",
              "  <style>\n",
              "    .colab-df-container {\n",
              "      display:flex;\n",
              "      gap: 12px;\n",
              "    }\n",
              "\n",
              "    .colab-df-convert {\n",
              "      background-color: #E8F0FE;\n",
              "      border: none;\n",
              "      border-radius: 50%;\n",
              "      cursor: pointer;\n",
              "      display: none;\n",
              "      fill: #1967D2;\n",
              "      height: 32px;\n",
              "      padding: 0 0 0 0;\n",
              "      width: 32px;\n",
              "    }\n",
              "\n",
              "    .colab-df-convert:hover {\n",
              "      background-color: #E2EBFA;\n",
              "      box-shadow: 0px 1px 2px rgba(60, 64, 67, 0.3), 0px 1px 3px 1px rgba(60, 64, 67, 0.15);\n",
              "      fill: #174EA6;\n",
              "    }\n",
              "\n",
              "    .colab-df-buttons div {\n",
              "      margin-bottom: 4px;\n",
              "    }\n",
              "\n",
              "    [theme=dark] .colab-df-convert {\n",
              "      background-color: #3B4455;\n",
              "      fill: #D2E3FC;\n",
              "    }\n",
              "\n",
              "    [theme=dark] .colab-df-convert:hover {\n",
              "      background-color: #434B5C;\n",
              "      box-shadow: 0px 1px 3px 1px rgba(0, 0, 0, 0.15);\n",
              "      filter: drop-shadow(0px 1px 2px rgba(0, 0, 0, 0.3));\n",
              "      fill: #FFFFFF;\n",
              "    }\n",
              "  </style>\n",
              "\n",
              "    <script>\n",
              "      const buttonEl =\n",
              "        document.querySelector('#df-ec40114b-b08d-48c2-bbd5-3b6dfc1c31af button.colab-df-convert');\n",
              "      buttonEl.style.display =\n",
              "        google.colab.kernel.accessAllowed ? 'block' : 'none';\n",
              "\n",
              "      async function convertToInteractive(key) {\n",
              "        const element = document.querySelector('#df-ec40114b-b08d-48c2-bbd5-3b6dfc1c31af');\n",
              "        const dataTable =\n",
              "          await google.colab.kernel.invokeFunction('convertToInteractive',\n",
              "                                                    [key], {});\n",
              "        if (!dataTable) return;\n",
              "\n",
              "        const docLinkHtml = 'Like what you see? Visit the ' +\n",
              "          '<a target=\"_blank\" href=https://colab.research.google.com/notebooks/data_table.ipynb>data table notebook</a>'\n",
              "          + ' to learn more about interactive tables.';\n",
              "        element.innerHTML = '';\n",
              "        dataTable['output_type'] = 'display_data';\n",
              "        await google.colab.output.renderOutput(dataTable, element);\n",
              "        const docLink = document.createElement('div');\n",
              "        docLink.innerHTML = docLinkHtml;\n",
              "        element.appendChild(docLink);\n",
              "      }\n",
              "    </script>\n",
              "  </div>\n",
              "\n",
              "\n",
              "    <div id=\"df-7ad03bff-44c4-49f6-906c-9b26875d4ace\">\n",
              "      <button class=\"colab-df-quickchart\" onclick=\"quickchart('df-7ad03bff-44c4-49f6-906c-9b26875d4ace')\"\n",
              "                title=\"Suggest charts\"\n",
              "                style=\"display:none;\">\n",
              "\n",
              "<svg xmlns=\"http://www.w3.org/2000/svg\" height=\"24px\"viewBox=\"0 0 24 24\"\n",
              "     width=\"24px\">\n",
              "    <g>\n",
              "        <path d=\"M19 3H5c-1.1 0-2 .9-2 2v14c0 1.1.9 2 2 2h14c1.1 0 2-.9 2-2V5c0-1.1-.9-2-2-2zM9 17H7v-7h2v7zm4 0h-2V7h2v10zm4 0h-2v-4h2v4z\"/>\n",
              "    </g>\n",
              "</svg>\n",
              "      </button>\n",
              "\n",
              "<style>\n",
              "  .colab-df-quickchart {\n",
              "      --bg-color: #E8F0FE;\n",
              "      --fill-color: #1967D2;\n",
              "      --hover-bg-color: #E2EBFA;\n",
              "      --hover-fill-color: #174EA6;\n",
              "      --disabled-fill-color: #AAA;\n",
              "      --disabled-bg-color: #DDD;\n",
              "  }\n",
              "\n",
              "  [theme=dark] .colab-df-quickchart {\n",
              "      --bg-color: #3B4455;\n",
              "      --fill-color: #D2E3FC;\n",
              "      --hover-bg-color: #434B5C;\n",
              "      --hover-fill-color: #FFFFFF;\n",
              "      --disabled-bg-color: #3B4455;\n",
              "      --disabled-fill-color: #666;\n",
              "  }\n",
              "\n",
              "  .colab-df-quickchart {\n",
              "    background-color: var(--bg-color);\n",
              "    border: none;\n",
              "    border-radius: 50%;\n",
              "    cursor: pointer;\n",
              "    display: none;\n",
              "    fill: var(--fill-color);\n",
              "    height: 32px;\n",
              "    padding: 0;\n",
              "    width: 32px;\n",
              "  }\n",
              "\n",
              "  .colab-df-quickchart:hover {\n",
              "    background-color: var(--hover-bg-color);\n",
              "    box-shadow: 0 1px 2px rgba(60, 64, 67, 0.3), 0 1px 3px 1px rgba(60, 64, 67, 0.15);\n",
              "    fill: var(--button-hover-fill-color);\n",
              "  }\n",
              "\n",
              "  .colab-df-quickchart-complete:disabled,\n",
              "  .colab-df-quickchart-complete:disabled:hover {\n",
              "    background-color: var(--disabled-bg-color);\n",
              "    fill: var(--disabled-fill-color);\n",
              "    box-shadow: none;\n",
              "  }\n",
              "\n",
              "  .colab-df-spinner {\n",
              "    border: 2px solid var(--fill-color);\n",
              "    border-color: transparent;\n",
              "    border-bottom-color: var(--fill-color);\n",
              "    animation:\n",
              "      spin 1s steps(1) infinite;\n",
              "  }\n",
              "\n",
              "  @keyframes spin {\n",
              "    0% {\n",
              "      border-color: transparent;\n",
              "      border-bottom-color: var(--fill-color);\n",
              "      border-left-color: var(--fill-color);\n",
              "    }\n",
              "    20% {\n",
              "      border-color: transparent;\n",
              "      border-left-color: var(--fill-color);\n",
              "      border-top-color: var(--fill-color);\n",
              "    }\n",
              "    30% {\n",
              "      border-color: transparent;\n",
              "      border-left-color: var(--fill-color);\n",
              "      border-top-color: var(--fill-color);\n",
              "      border-right-color: var(--fill-color);\n",
              "    }\n",
              "    40% {\n",
              "      border-color: transparent;\n",
              "      border-right-color: var(--fill-color);\n",
              "      border-top-color: var(--fill-color);\n",
              "    }\n",
              "    60% {\n",
              "      border-color: transparent;\n",
              "      border-right-color: var(--fill-color);\n",
              "    }\n",
              "    80% {\n",
              "      border-color: transparent;\n",
              "      border-right-color: var(--fill-color);\n",
              "      border-bottom-color: var(--fill-color);\n",
              "    }\n",
              "    90% {\n",
              "      border-color: transparent;\n",
              "      border-bottom-color: var(--fill-color);\n",
              "    }\n",
              "  }\n",
              "</style>\n",
              "\n",
              "      <script>\n",
              "        async function quickchart(key) {\n",
              "          const quickchartButtonEl =\n",
              "            document.querySelector('#' + key + ' button');\n",
              "          quickchartButtonEl.disabled = true;  // To prevent multiple clicks.\n",
              "          quickchartButtonEl.classList.add('colab-df-spinner');\n",
              "          try {\n",
              "            const charts = await google.colab.kernel.invokeFunction(\n",
              "                'suggestCharts', [key], {});\n",
              "          } catch (error) {\n",
              "            console.error('Error during call to suggestCharts:', error);\n",
              "          }\n",
              "          quickchartButtonEl.classList.remove('colab-df-spinner');\n",
              "          quickchartButtonEl.classList.add('colab-df-quickchart-complete');\n",
              "        }\n",
              "        (() => {\n",
              "          let quickchartButtonEl =\n",
              "            document.querySelector('#df-7ad03bff-44c4-49f6-906c-9b26875d4ace button');\n",
              "          quickchartButtonEl.style.display =\n",
              "            google.colab.kernel.accessAllowed ? 'block' : 'none';\n",
              "        })();\n",
              "      </script>\n",
              "    </div>\n",
              "\n",
              "    </div>\n",
              "  </div>\n"
            ],
            "application/vnd.google.colaboratory.intrinsic+json": {
              "type": "dataframe",
              "summary": "{\n  \"name\": \"df\",\n  \"rows\": 5,\n  \"fields\": [\n    {\n      \"column\": \"physical_activity_minutes_per_week\",\n      \"properties\": {\n        \"dtype\": \"number\",\n        \"std\": 75,\n        \"min\": 52,\n        \"max\": 248,\n        \"num_unique_values\": 5,\n        \"samples\": [\n          76,\n          248,\n          121\n        ],\n        \"semantic_type\": \"\",\n        \"description\": \"\"\n      }\n    },\n    {\n      \"column\": \"diet_score\",\n      \"properties\": {\n        \"dtype\": \"number\",\n        \"std\": 2.870888364252431,\n        \"min\": 2.7,\n        \"max\": 9.9,\n        \"num_unique_values\": 5,\n        \"samples\": [\n          8.8,\n          2.7,\n          9.9\n        ],\n        \"semantic_type\": \"\",\n        \"description\": \"\"\n      }\n    },\n    {\n      \"column\": \"sleep_hours_per_day\",\n      \"properties\": {\n        \"dtype\": \"number\",\n        \"std\": 0.8111719916269299,\n        \"min\": 5.0,\n        \"max\": 6.8,\n        \"num_unique_values\": 5,\n        \"samples\": [\n          6.8,\n          5.4,\n          5.0\n        ],\n        \"semantic_type\": \"\",\n        \"description\": \"\"\n      }\n    },\n    {\n      \"column\": \"screen_time_hours_per_day\",\n      \"properties\": {\n        \"dtype\": \"number\",\n        \"std\": 2.2027255843613385,\n        \"min\": 0.5,\n        \"max\": 6.1,\n        \"num_unique_values\": 5,\n        \"samples\": [\n          4.8,\n          5.5,\n          6.1\n        ],\n        \"semantic_type\": \"\",\n        \"description\": \"\"\n      }\n    },\n    {\n      \"column\": \"bmi\",\n      \"properties\": {\n        \"dtype\": \"number\",\n        \"std\": 2.1083168642308014,\n        \"min\": 25.6,\n        \"max\": 30.3,\n        \"num_unique_values\": 5,\n        \"samples\": [\n          26.5,\n          30.3,\n          25.6\n        ],\n        \"semantic_type\": \"\",\n        \"description\": \"\"\n      }\n    },\n    {\n      \"column\": \"waist_to_hip_ratio\",\n      \"properties\": {\n        \"dtype\": \"number\",\n        \"std\": 0.06610597552415366,\n        \"min\": 0.83,\n        \"max\": 1.0,\n        \"num_unique_values\": 5,\n        \"samples\": [\n          0.86,\n          1.0,\n          0.83\n        ],\n        \"semantic_type\": \"\",\n        \"description\": \"\"\n      }\n    },\n    {\n      \"column\": \"systolic_bp\",\n      \"properties\": {\n        \"dtype\": \"number\",\n        \"std\": 10,\n        \"min\": 107,\n        \"max\": 130,\n        \"num_unique_values\": 5,\n        \"samples\": [\n          130,\n          109,\n          107\n        ],\n        \"semantic_type\": \"\",\n        \"description\": \"\"\n      }\n    },\n    {\n      \"column\": \"diastolic_bp\",\n      \"properties\": {\n        \"dtype\": \"number\",\n        \"std\": 5,\n        \"min\": 74,\n        \"max\": 87,\n        \"num_unique_values\": 4,\n        \"samples\": [\n          76,\n          77,\n          74\n        ],\n        \"semantic_type\": \"\",\n        \"description\": \"\"\n      }\n    },\n    {\n      \"column\": \"hdl_cholesterol\",\n      \"properties\": {\n        \"dtype\": \"number\",\n        \"std\": 13,\n        \"min\": 31,\n        \"max\": 68,\n        \"num_unique_values\": 5,\n        \"samples\": [\n          55,\n          31,\n          50\n        ],\n        \"semantic_type\": \"\",\n        \"description\": \"\"\n      }\n    },\n    {\n      \"column\": \"ldl_cholesterol\",\n      \"properties\": {\n        \"dtype\": \"number\",\n        \"std\": 35,\n        \"min\": 91,\n        \"max\": 183,\n        \"num_unique_values\": 5,\n        \"samples\": [\n          123,\n          183,\n          111\n        ],\n        \"semantic_type\": \"\",\n        \"description\": \"\"\n      }\n    },\n    {\n      \"column\": \"triglycerides\",\n      \"properties\": {\n        \"dtype\": \"number\",\n        \"std\": 36,\n        \"min\": 87,\n        \"max\": 184,\n        \"num_unique_values\": 4,\n        \"samples\": [\n          146,\n          87,\n          116\n        ],\n        \"semantic_type\": \"\",\n        \"description\": \"\"\n      }\n    },\n    {\n      \"column\": \"glucose_fasting\",\n      \"properties\": {\n        \"dtype\": \"number\",\n        \"std\": 9,\n        \"min\": 91,\n        \"max\": 113,\n        \"num_unique_values\": 5,\n        \"samples\": [\n          96,\n          91,\n          93\n        ],\n        \"semantic_type\": \"\",\n        \"description\": \"\"\n      }\n    },\n    {\n      \"column\": \"glucose_postprandial\",\n      \"properties\": {\n        \"dtype\": \"number\",\n        \"std\": 15,\n        \"min\": 109,\n        \"max\": 146,\n        \"num_unique_values\": 5,\n        \"samples\": [\n          146,\n          142,\n          132\n        ],\n        \"semantic_type\": \"\",\n        \"description\": \"\"\n      }\n    },\n    {\n      \"column\": \"insulin_level\",\n      \"properties\": {\n        \"dtype\": \"number\",\n        \"std\": 5.282354588628068,\n        \"min\": 2.57,\n        \"max\": 15.93,\n        \"num_unique_values\": 5,\n        \"samples\": [\n          9.02,\n          15.93,\n          2.57\n        ],\n        \"semantic_type\": \"\",\n        \"description\": \"\"\n      }\n    },\n    {\n      \"column\": \"hba1c\",\n      \"properties\": {\n        \"dtype\": \"number\",\n        \"std\": 0.27985710639538885,\n        \"min\": 5.21,\n        \"max\": 5.97,\n        \"num_unique_values\": 5,\n        \"samples\": [\n          5.97,\n          5.73,\n          5.21\n        ],\n        \"semantic_type\": \"\",\n        \"description\": \"\"\n      }\n    },\n    {\n      \"column\": \"diabetes_risk_score\",\n      \"properties\": {\n        \"dtype\": \"number\",\n        \"std\": 1.3992855319769448,\n        \"min\": 24.4,\n        \"max\": 27.9,\n        \"num_unique_values\": 5,\n        \"samples\": [\n          24.4,\n          27.9,\n          27.6\n        ],\n        \"semantic_type\": \"\",\n        \"description\": \"\"\n      }\n    },\n    {\n      \"column\": \"diagnosed_diabetes\",\n      \"properties\": {\n        \"dtype\": \"number\",\n        \"std\": 0,\n        \"min\": 0,\n        \"max\": 0,\n        \"num_unique_values\": 1,\n        \"samples\": [\n          0\n        ],\n        \"semantic_type\": \"\",\n        \"description\": \"\"\n      }\n    }\n  ]\n}"
            }
          },
          "metadata": {},
          "execution_count": 5
        }
      ]
    },
    {
      "cell_type": "code",
      "source": [
        "df.shape"
      ],
      "metadata": {
        "colab": {
          "base_uri": "https://localhost:8080/"
        },
        "id": "1sIlxmyKlzjF",
        "outputId": "04bd1714-ef1e-4c31-f880-407fd3b436ef"
      },
      "execution_count": 7,
      "outputs": [
        {
          "output_type": "execute_result",
          "data": {
            "text/plain": [
              "(100000, 17)"
            ]
          },
          "metadata": {},
          "execution_count": 7
        }
      ]
    },
    {
      "cell_type": "code",
      "source": [
        "# Splitting the features and target labels\n",
        "\n",
        "x = df.iloc[ : , :-1].values\n",
        "y = df.iloc[ : , -1].values"
      ],
      "metadata": {
        "id": "zw0vpQMbmmvk"
      },
      "execution_count": 9,
      "outputs": []
    },
    {
      "cell_type": "code",
      "source": [
        "# Defining a function to average accuracy over 20 runs\n",
        "\n",
        "def average_accuracy(model_fn, x, y,n_runs = 20, test_size = 0.25, random_state = None):\n",
        "  accuracies = []\n",
        "  for i in range(n_runs):\n",
        "    x_train, x_test, y_train, y_test = train_test_split(\n",
        "        x, y, test_size = test_size, random_state = None\n",
        "    )\n",
        "    model = model_fn()\n",
        "    model.fit(x_train, y_train)\n",
        "    y_predicted = model.predict(x_test)\n",
        "    accuracies.append(accuracy_score(y_test, y_predicted))\n",
        "  return np.mean(accuracies)"
      ],
      "metadata": {
        "id": "H619s_e_oGGp"
      },
      "execution_count": 13,
      "outputs": []
    },
    {
      "cell_type": "markdown",
      "source": [
        "**1) KNN**"
      ],
      "metadata": {
        "id": "pXUuj6wMq-zq"
      }
    },
    {
      "cell_type": "code",
      "source": [
        "k_values = range(3, 21)\n",
        "knn_accuracies = []\n",
        "\n",
        "for k in k_values:\n",
        "  avg_acc = average_accuracy(lambda: KNeighborsClassifier(n_neighbors=k), x, y)\n",
        "  knn_accuracies.append(avg_acc)"
      ],
      "metadata": {
        "id": "YspIMcI9plth"
      },
      "execution_count": 14,
      "outputs": []
    },
    {
      "cell_type": "code",
      "source": [
        "# Plotting k vs accuracy\n",
        "# using seaborn for this\n",
        "\n",
        "import seaborn as sb\n",
        "\n",
        "\n",
        "# Convert results into a DataFrame for Seaborn\n",
        "knn_df = pd.DataFrame({\n",
        "    'k': k_values,\n",
        "    'Average Test Accuracy': knn_accuracies\n",
        "})\n",
        "\n",
        "# Create the line plot\n",
        "plt.figure(figsize=(8, 5))\n",
        "sb.lineplot(data=knn_df, x='k', y='Average Test Accuracy', marker='o')\n",
        "plt.title('kNN: Average Test Accuracy vs k', fontsize=14)\n",
        "plt.xlabel('k (number of neighbors)', fontsize=12)\n",
        "plt.ylabel('Average Test Accuracy', fontsize=12)\n",
        "plt.grid(True)\n",
        "plt.show()\n",
        "\n"
      ],
      "metadata": {
        "colab": {
          "base_uri": "https://localhost:8080/",
          "height": 492
        },
        "id": "eO-nyHkJsGuj",
        "outputId": "b29edd1f-2c90-4a07-cbde-daccc177be66"
      },
      "execution_count": 15,
      "outputs": [
        {
          "output_type": "display_data",
          "data": {
            "text/plain": [
              "<Figure size 800x500 with 1 Axes>"
            ],
            "image/png": "[encoded data removed]"
          },
          "metadata": {}
        }
      ]
    },
    {
      "cell_type": "markdown",
      "source": [
        "**2) Naive Bayes (Gaussian and Multinomial)**"
      ],
      "metadata": {
        "id": "d-E1r-VMsw2v"
      }
    },
    {
      "cell_type": "code",
      "source": [
        "# Gaussian Naive Bayes\n",
        "gaussian_acc = average_accuracy(lambda: GaussianNB(), x, y)\n",
        "\n",
        "# Multinomial Naive Bayes (features must be non-negative)\n",
        "X_non_negative = np.clip(x, a_min=0, a_max=None)\n",
        "multinomial_acc = average_accuracy(lambda: MultinomialNB(), X_non_negative, y)\n",
        "\n",
        "print(f\"GaussianNB Average Accuracy: {gaussian_acc:.4f}\")\n",
        "print(f\"MultinomialNB Average Accuracy: {multinomial_acc:.4f}\")\n"
      ],
      "metadata": {
        "colab": {
          "base_uri": "https://localhost:8080/"
        },
        "id": "trD4gr0tszTO",
        "outputId": "90392079-2f0a-4306-8171-cedc0be6b4c7"
      },
      "execution_count": 16,
      "outputs": [
        {
          "output_type": "stream",
          "name": "stdout",
          "text": [
            "GaussianNB Average Accuracy: 0.8602\n",
            "MultinomialNB Average Accuracy: 0.6453\n"
          ]
        }
      ]
    },
    {
      "cell_type": "markdown",
      "source": [
        "**3) Logistic Regression**"
      ],
      "metadata": {
        "id": "39PsuCmiyFdP"
      }
    },
    {
      "cell_type": "markdown",
      "source": [
        "I used a scaler to standardize all features to the same scale, so no feature dominates due to its magnitude.\n",
        "This helps this algorithm converge faster and perform better."
      ],
      "metadata": {
        "id": "04nbjt5iJUG8"
      }
    },
    {
      "cell_type": "code",
      "source": [
        "from sklearn.preprocessing import StandardScaler\n",
        "\n",
        "scaler = StandardScaler()\n",
        "X_scaled = scaler.fit_transform(x)\n",
        "\n",
        "log_reg_acc = average_accuracy(\n",
        "    lambda: LogisticRegression(max_iter=2000, solver='lbfgs', n_jobs=-1),\n",
        "    X_scaled, y\n",
        ")\n",
        "print(f\"Logistic Regression (scaled) Average Accuracy: {log_reg_acc:.4f}\")\n"
      ],
      "metadata": {
        "colab": {
          "base_uri": "https://localhost:8080/"
        },
        "id": "Pf30sOIrx4M7",
        "outputId": "b6dc48ff-85e5-43f9-c31b-8af23345241c"
      },
      "execution_count": 21,
      "outputs": [
        {
          "output_type": "stream",
          "name": "stdout",
          "text": [
            "Logistic Regression (scaled) Average Accuracy: 0.8586\n"
          ]
        }
      ]
    },
    {
      "cell_type": "markdown",
      "source": [
        "**4) Support Vector Machine (SVM)**"
      ],
      "metadata": {
        "id": "QPXBOVYHyOss"
      }
    },
    {
      "cell_type": "code",
      "source": [
        "# Using RBF kernel with default C=1.0 and gamma='scale'\n",
        "\n",
        "svm_acc = average_accuracy(\n",
        "    lambda: SVC(kernel='rbf', C=1.0, gamma='scale'), x, y\n",
        ")\n",
        "print(f\"SVM (RBF kernel) Average Accuracy: {svm_acc:.4f}\")\n"
      ],
      "metadata": {
        "colab": {
          "base_uri": "https://localhost:8080/"
        },
        "id": "-12BE3a-yL7u",
        "outputId": "45ce79c1-39f8-4904-fe7f-c824c5b9e389"
      },
      "execution_count": 22,
      "outputs": [
        {
          "output_type": "stream",
          "name": "stdout",
          "text": [
            "SVM (RBF kernel) Average Accuracy: 0.8459\n"
          ]
        }
      ]
    },
    {
      "cell_type": "markdown",
      "source": [
        "**Summary of all results I got above**"
      ],
      "metadata": {
        "id": "sJ8rR5yiyYPP"
      }
    },
    {
      "cell_type": "code",
      "source": [
        "results = {\n",
        "    \"Best kNN\": max(knn_accuracies),\n",
        "    \"Gaussian NB\": gaussian_acc,\n",
        "    \"Multinomial NB\": multinomial_acc,\n",
        "    \"Logistic Regression\": log_reg_acc,\n",
        "    \"SVM (RBF kernel)\": svm_acc\n",
        "}\n",
        "\n",
        "for model, acc in results.items():\n",
        "    print(f\"{model}: {acc:.4f}\")\n"
      ],
      "metadata": {
        "colab": {
          "base_uri": "https://localhost:8080/"
        },
        "id": "wlt5jH6JydZM",
        "outputId": "e3b18254-26da-4b96-9d8a-cf2c44eedd1d"
      },
      "execution_count": 23,
      "outputs": [
        {
          "output_type": "stream",
          "name": "stdout",
          "text": [
            "Best kNN: 0.8338\n",
            "Gaussian NB: 0.8602\n",
            "Multinomial NB: 0.6453\n",
            "Logistic Regression: 0.8586\n",
            "SVM (RBF kernel): 0.8459\n"
          ]
        }
      ]
    }
  ]
}